{
 "cells": [
  {
   "cell_type": "code",
   "execution_count": 1,
   "metadata": {},
   "outputs": [
    {
     "name": "stdout",
     "output_type": "stream",
     "text": [
      "Hjonk Hjonk am goose\n"
     ]
    }
   ],
   "source": [
    "print(\"Hjonk Hjonk am goose\")"
   ]
  },
  {
   "cell_type": "code",
   "execution_count": 4,
   "metadata": {},
   "outputs": [
    {
     "name": "stdin",
     "output_type": "stream",
     "text": [
      "What is your name? 5\n"
     ]
    },
    {
     "name": "stdout",
     "output_type": "stream",
     "text": [
      "I don't think that's a name...\n"
     ]
    },
    {
     "name": "stdin",
     "output_type": "stream",
     "text": [
      "What year were you born in? 2002\n"
     ]
    },
    {
     "name": "stdout",
     "output_type": "stream",
     "text": [
      "Hello user! You are 18 years old or 17 if you haven't had your birthday yet. Happy early birthday!\n"
     ]
    }
   ],
   "source": [
    "name = input(\"What is your name?\")\n",
    "try:\n",
    "    name = int(name)\n",
    "    print(\"I don't think that's a name...\")\n",
    "    name = \"user\"\n",
    "except:\n",
    "    name = str(name)\n",
    "birthyear = input(\"What year were you born in?\")\n",
    "ageupper = 2020 - int(birthyear)\n",
    "agelower = 2020 - int(birthyear) - 1\n",
    "print(\"Hello \" + name + \"! You are \" + str(ageupper) + \" years old or \" + str(agelower) + \" if you haven't had your birthday yet. Happy early birthday!\")"
   ]
  },
  {
   "cell_type": "code",
   "execution_count": null,
   "metadata": {},
   "outputs": [],
   "source": []
  }
 ],
 "metadata": {
  "kernelspec": {
   "display_name": "Python 3",
   "language": "python",
   "name": "python3"
  },
  "language_info": {
   "codemirror_mode": {
    "name": "ipython",
    "version": 3
   },
   "file_extension": ".py",
   "mimetype": "text/x-python",
   "name": "python",
   "nbconvert_exporter": "python",
   "pygments_lexer": "ipython3",
   "version": "3.7.8"
  }
 },
 "nbformat": 4,
 "nbformat_minor": 4
}
